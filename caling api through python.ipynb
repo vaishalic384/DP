{
 "cells": [
  {
   "cell_type": "code",
   "execution_count": 2,
   "id": "85883018",
   "metadata": {},
   "outputs": [
    {
     "name": "stdout",
     "output_type": "stream",
     "text": [
      "Please input a show name.  Girls\n",
      "{'_links': {'previousepisode': {'href': 'https://api.tvmaze.com/episodes/1079686'},\n",
      "            'self': {'href': 'https://api.tvmaze.com/shows/139'}},\n",
      " 'averageRuntime': 30,\n",
      " 'dvdCountry': None,\n",
      " 'ended': '2017-04-16',\n",
      " 'externals': {'imdb': 'tt1723816', 'thetvdb': 220411, 'tvrage': 30124},\n",
      " 'genres': ['Drama', 'Romance'],\n",
      " 'id': 139,\n",
      " 'image': {'medium': 'https://static.tvmaze.com/uploads/images/medium_portrait/31/78286.jpg',\n",
      "           'original': 'https://static.tvmaze.com/uploads/images/original_untouched/31/78286.jpg'},\n",
      " 'language': 'English',\n",
      " 'name': 'Girls',\n",
      " 'network': {'country': {'code': 'US',\n",
      "                         'name': 'United States',\n",
      "                         'timezone': 'America/New_York'},\n",
      "             'id': 8,\n",
      "             'name': 'HBO',\n",
      "             'officialSite': 'https://www.hbo.com/'},\n",
      " 'officialSite': 'http://www.hbo.com/girls',\n",
      " 'premiered': '2012-04-15',\n",
      " 'rating': {'average': 6.7},\n",
      " 'runtime': 30,\n",
      " 'schedule': {'days': ['Sunday'], 'time': '22:00'},\n",
      " 'status': 'Ended',\n",
      " 'summary': '<p>This Emmy winning series is a comic look at the assorted '\n",
      "            'humiliations and rare triumphs of a group of girls in their '\n",
      "            '20s.</p>',\n",
      " 'type': 'Scripted',\n",
      " 'updated': 1611310521,\n",
      " 'url': 'https://www.tvmaze.com/shows/139/girls',\n",
      " 'webChannel': None,\n",
      " 'weight': 97}\n",
      "Girls premiered on 2012-04-15.\n",
      "<p>This Emmy winning series is a comic look at the assorted humiliations and rare triumphs of a group of girls in their 20s.</p>\n"
     ]
    }
   ],
   "source": [
    "import requests\n",
    "import json\n",
    "import pprint\n",
    "\n",
    "url = \"http://api.tvmaze.com/singlesearch/shows\"\n",
    "show = input(\"Please input a show name.  \")\n",
    "params = {\"q\":show}\n",
    "\n",
    "response = requests.get(url, params)\n",
    "\n",
    "if response.status_code == 200:\n",
    "    data = json.loads(response.text)\n",
    "    #pprint.pprint(data)\n",
    "    \n",
    "    name = data['name']\n",
    "    premiered = data['premiered']\n",
    "    summary = data['summary']\n",
    "    \n",
    "    print(f\"{name} premiered on {premiered}.\")\n",
    "    print(summary)\n",
    "    \n",
    "else:\n",
    "    print(f\"Error: {response.status_code}\")\n",
    "\n",
    "\n",
    "\n"
   ]
  },
  {
   "cell_type": "code",
   "execution_count": null,
   "id": "190331ee",
   "metadata": {},
   "outputs": [],
   "source": []
  }
 ],
 "metadata": {
  "kernelspec": {
   "display_name": "Python 3 (ipykernel)",
   "language": "python",
   "name": "python3"
  },
  "language_info": {
   "codemirror_mode": {
    "name": "ipython",
    "version": 3
   },
   "file_extension": ".py",
   "mimetype": "text/x-python",
   "name": "python",
   "nbconvert_exporter": "python",
   "pygments_lexer": "ipython3",
   "version": "3.9.12"
  }
 },
 "nbformat": 4,
 "nbformat_minor": 5
}
